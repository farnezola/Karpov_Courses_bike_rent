{
 "cells": [
  {
   "cell_type": "code",
   "execution_count": 1,
   "id": "b51791e4",
   "metadata": {},
   "outputs": [],
   "source": [
    "import numpy as np, scipy.stats as st\n",
    "import statsmodels.stats.api as sms\n",
    "import pandas as pd\n",
    "import matplotlib as plt\n",
    "import seaborn as sns"
   ]
  },
  {
   "cell_type": "code",
   "execution_count": null,
   "id": "6d5c5a8d",
   "metadata": {},
   "outputs": [],
   "source": []
  },
  {
   "cell_type": "code",
   "execution_count": null,
   "id": "cbfa5726",
   "metadata": {},
   "outputs": [],
   "source": [
    "# Загрузим данные, проверим число наблюдений и столбцов, наличие пропусков.\n",
    "# Убедитесь, что типы данных были прочитаны правильно. При необходимости – приведём переменные к нужным типам."
   ]
  },
  {
   "cell_type": "code",
   "execution_count": 2,
   "id": "3666b84f",
   "metadata": {},
   "outputs": [
    {
     "data": {
      "text/html": [
       "<div>\n",
       "<style scoped>\n",
       "    .dataframe tbody tr th:only-of-type {\n",
       "        vertical-align: middle;\n",
       "    }\n",
       "\n",
       "    .dataframe tbody tr th {\n",
       "        vertical-align: top;\n",
       "    }\n",
       "\n",
       "    .dataframe thead th {\n",
       "        text-align: right;\n",
       "    }\n",
       "</style>\n",
       "<table border=\"1\" class=\"dataframe\">\n",
       "  <thead>\n",
       "    <tr style=\"text-align: right;\">\n",
       "      <th></th>\n",
       "      <th>timestamp</th>\n",
       "      <th>cnt</th>\n",
       "      <th>t1</th>\n",
       "      <th>t2</th>\n",
       "      <th>hum</th>\n",
       "      <th>wind_speed</th>\n",
       "      <th>weather_code</th>\n",
       "      <th>is_holiday</th>\n",
       "      <th>is_weekend</th>\n",
       "      <th>season</th>\n",
       "    </tr>\n",
       "  </thead>\n",
       "  <tbody>\n",
       "    <tr>\n",
       "      <th>0</th>\n",
       "      <td>2015-01-04 00:00:00</td>\n",
       "      <td>182</td>\n",
       "      <td>3.0</td>\n",
       "      <td>2.0</td>\n",
       "      <td>93.0</td>\n",
       "      <td>6.0</td>\n",
       "      <td>3.0</td>\n",
       "      <td>0.0</td>\n",
       "      <td>1.0</td>\n",
       "      <td>3.0</td>\n",
       "    </tr>\n",
       "    <tr>\n",
       "      <th>1</th>\n",
       "      <td>2015-01-04 01:00:00</td>\n",
       "      <td>138</td>\n",
       "      <td>3.0</td>\n",
       "      <td>2.5</td>\n",
       "      <td>93.0</td>\n",
       "      <td>5.0</td>\n",
       "      <td>1.0</td>\n",
       "      <td>0.0</td>\n",
       "      <td>1.0</td>\n",
       "      <td>3.0</td>\n",
       "    </tr>\n",
       "    <tr>\n",
       "      <th>2</th>\n",
       "      <td>2015-01-04 02:00:00</td>\n",
       "      <td>134</td>\n",
       "      <td>2.5</td>\n",
       "      <td>2.5</td>\n",
       "      <td>96.5</td>\n",
       "      <td>0.0</td>\n",
       "      <td>1.0</td>\n",
       "      <td>0.0</td>\n",
       "      <td>1.0</td>\n",
       "      <td>3.0</td>\n",
       "    </tr>\n",
       "    <tr>\n",
       "      <th>3</th>\n",
       "      <td>2015-01-04 03:00:00</td>\n",
       "      <td>72</td>\n",
       "      <td>2.0</td>\n",
       "      <td>2.0</td>\n",
       "      <td>100.0</td>\n",
       "      <td>0.0</td>\n",
       "      <td>1.0</td>\n",
       "      <td>0.0</td>\n",
       "      <td>1.0</td>\n",
       "      <td>3.0</td>\n",
       "    </tr>\n",
       "    <tr>\n",
       "      <th>4</th>\n",
       "      <td>2015-01-04 04:00:00</td>\n",
       "      <td>47</td>\n",
       "      <td>2.0</td>\n",
       "      <td>0.0</td>\n",
       "      <td>93.0</td>\n",
       "      <td>6.5</td>\n",
       "      <td>1.0</td>\n",
       "      <td>0.0</td>\n",
       "      <td>1.0</td>\n",
       "      <td>3.0</td>\n",
       "    </tr>\n",
       "  </tbody>\n",
       "</table>\n",
       "</div>"
      ],
      "text/plain": [
       "             timestamp  cnt   t1   t2    hum  wind_speed  weather_code  \\\n",
       "0  2015-01-04 00:00:00  182  3.0  2.0   93.0         6.0           3.0   \n",
       "1  2015-01-04 01:00:00  138  3.0  2.5   93.0         5.0           1.0   \n",
       "2  2015-01-04 02:00:00  134  2.5  2.5   96.5         0.0           1.0   \n",
       "3  2015-01-04 03:00:00   72  2.0  2.0  100.0         0.0           1.0   \n",
       "4  2015-01-04 04:00:00   47  2.0  0.0   93.0         6.5           1.0   \n",
       "\n",
       "   is_holiday  is_weekend  season  \n",
       "0         0.0         1.0     3.0  \n",
       "1         0.0         1.0     3.0  \n",
       "2         0.0         1.0     3.0  \n",
       "3         0.0         1.0     3.0  \n",
       "4         0.0         1.0     3.0  "
      ]
     },
     "execution_count": 2,
     "metadata": {},
     "output_type": "execute_result"
    }
   ],
   "source": [
    "df=pd.read_csv('C:/Users/mgika/Documents/KK_Data_analyst/statistics/london.csv')\n",
    "df.head()"
   ]
  },
  {
   "cell_type": "code",
   "execution_count": 4,
   "id": "7ddbe049",
   "metadata": {},
   "outputs": [
    {
     "data": {
      "text/plain": [
       "(17414, 10)"
      ]
     },
     "execution_count": 4,
     "metadata": {},
     "output_type": "execute_result"
    }
   ],
   "source": [
    "df.shape"
   ]
  },
  {
   "cell_type": "code",
   "execution_count": 5,
   "id": "0f60c2be",
   "metadata": {},
   "outputs": [
    {
     "data": {
      "text/plain": [
       "timestamp        object\n",
       "cnt               int64\n",
       "t1              float64\n",
       "t2              float64\n",
       "hum             float64\n",
       "wind_speed      float64\n",
       "weather_code    float64\n",
       "is_holiday      float64\n",
       "is_weekend      float64\n",
       "season          float64\n",
       "dtype: object"
      ]
     },
     "execution_count": 5,
     "metadata": {},
     "output_type": "execute_result"
    }
   ],
   "source": [
    "df.dtypes"
   ]
  },
  {
   "cell_type": "code",
   "execution_count": 6,
   "id": "373774bd",
   "metadata": {},
   "outputs": [],
   "source": [
    "df['timestamp'] = pd.to_datetime(df['timestamp'])\n",
    "df = df.sort_values('timestamp')\n",
    "df = df.set_index('timestamp')"
   ]
  },
  {
   "cell_type": "code",
   "execution_count": null,
   "id": "e8be01f0",
   "metadata": {},
   "outputs": [],
   "source": []
  },
  {
   "cell_type": "code",
   "execution_count": 8,
   "id": "fcb7a1c1",
   "metadata": {},
   "outputs": [
    {
     "data": {
      "text/plain": [
       "<AxesSubplot:xlabel='timestamp'>"
      ]
     },
     "execution_count": 8,
     "metadata": {},
     "output_type": "execute_result"
    },
    {
     "data": {
      "image/png": "[encoded data removed]",
      "text/plain": [
       "<Figure size 432x288 with 1 Axes>"
      ]
     },
     "metadata": {
      "needs_background": "light"
     },
     "output_type": "display_data"
    }
   ],
   "source": [
    "# попробуем посмотреть на число поездок по датам и времени. Постройте график, где:\n",
    "# по оси x – дата (timestamp)\n",
    "# по оси y – число поездок (cnt)\n",
    "\n",
    "\n",
    "df.plot()"
   ]
  },
  {
   "cell_type": "code",
   "execution_count": null,
   "id": "c8cef5a6",
   "metadata": {},
   "outputs": [],
   "source": [
    "# Очень сложно что-то понять из такого графика,\n",
    "# нужно преобразовать данные, чтобы увидеть тренды"
   ]
  },
  {
   "cell_type": "code",
   "execution_count": 7,
   "id": "d94fc037",
   "metadata": {},
   "outputs": [
    {
     "data": {
      "text/plain": [
       "<AxesSubplot:xlabel='timestamp'>"
      ]
     },
     "execution_count": 7,
     "metadata": {},
     "output_type": "execute_result"
    },
    {
     "data": {
      "image/png": "[encoded data removed]",
      "text/plain": [
       "<Figure size 432x288 with 1 Axes>"
      ]
     },
     "metadata": {
      "needs_background": "light"
     },
     "output_type": "display_data"
    }
   ],
   "source": [
    "# Агрегируем число поездок по дням и визуализируем результат.\n",
    "\n",
    "\n",
    "df.resample(rule = 'D').sum().plot()"
   ]
  },
  {
   "cell_type": "code",
   "execution_count": null,
   "id": "e4719bd7",
   "metadata": {},
   "outputs": [],
   "source": [
    "# Итак, мы обнаружили на графике некоторые скачки. Давайте проверим, что же могло произойти в тот день.\n",
    "# Для этого разделим дальнейшие действия на несколько этапов:"
   ]
  },
  {
   "cell_type": "code",
   "execution_count": null,
   "id": "7e8f29d5",
   "metadata": {},
   "outputs": [],
   "source": []
  },
  {
   "cell_type": "code",
   "execution_count": 9,
   "id": "2a0d0a22",
   "metadata": {},
   "outputs": [],
   "source": [
    "# сначала посчитаем скользящее среднее с окном 3, чтобы сгладить ряд\n",
    "\n",
    "df_resample = df.resample(rule = 'D').sum()\n",
    "df_resample['roll_mean'] = df_resample.cnt.rolling(3).mean()"
   ]
  },
  {
   "cell_type": "code",
   "execution_count": null,
   "id": "56372927",
   "metadata": {},
   "outputs": [],
   "source": []
  },
  {
   "cell_type": "code",
   "execution_count": 11,
   "id": "b6e4d480",
   "metadata": {},
   "outputs": [
    {
     "data": {
      "text/plain": [
       "4558.58664111794"
      ]
     },
     "execution_count": 11,
     "metadata": {},
     "output_type": "execute_result"
    }
   ],
   "source": [
    "# далее – разницу между наблюдаемыми и сглаженными значениями и стандартное отклонение\n",
    "\n",
    "df_resample['mean_diff'] = df_resample.cnt - df_resample.roll_mean\n",
    "np.std(df_resample.mean_diff)"
   ]
  },
  {
   "cell_type": "code",
   "execution_count": null,
   "id": "d9ae69f1",
   "metadata": {},
   "outputs": [],
   "source": []
  },
  {
   "cell_type": "code",
   "execution_count": 12,
   "id": "ab5a4545",
   "metadata": {},
   "outputs": [],
   "source": [
    "# определим верхние и нижние границы 99% доверительного интервала \n",
    "\n",
    "df_resample['upper_bound'] = df_resample.roll_mean + 2.576 * np.std(df_resample.mean_diff) # 2.576 is the Z-score for 99% CI\n",
    "df_resample['lower_bound'] = df_resample.roll_mean - 2.576 * np.std(df_resample.mean_diff)"
   ]
  },
  {
   "cell_type": "code",
   "execution_count": null,
   "id": "cb03a779",
   "metadata": {},
   "outputs": [],
   "source": []
  },
  {
   "cell_type": "code",
   "execution_count": 14,
   "id": "5a662eb9",
   "metadata": {},
   "outputs": [
    {
     "data": {
      "text/html": [
       "<div>\n",
       "<style scoped>\n",
       "    .dataframe tbody tr th:only-of-type {\n",
       "        vertical-align: middle;\n",
       "    }\n",
       "\n",
       "    .dataframe tbody tr th {\n",
       "        vertical-align: top;\n",
       "    }\n",
       "\n",
       "    .dataframe thead th {\n",
       "        text-align: right;\n",
       "    }\n",
       "</style>\n",
       "<table border=\"1\" class=\"dataframe\">\n",
       "  <thead>\n",
       "    <tr style=\"text-align: right;\">\n",
       "      <th></th>\n",
       "      <th>cnt</th>\n",
       "      <th>t1</th>\n",
       "      <th>t2</th>\n",
       "      <th>hum</th>\n",
       "      <th>wind_speed</th>\n",
       "      <th>weather_code</th>\n",
       "      <th>is_holiday</th>\n",
       "      <th>is_weekend</th>\n",
       "      <th>season</th>\n",
       "      <th>roll_mean</th>\n",
       "      <th>mean_diff</th>\n",
       "      <th>upper_bound</th>\n",
       "      <th>lower_bound</th>\n",
       "    </tr>\n",
       "    <tr>\n",
       "      <th>timestamp</th>\n",
       "      <th></th>\n",
       "      <th></th>\n",
       "      <th></th>\n",
       "      <th></th>\n",
       "      <th></th>\n",
       "      <th></th>\n",
       "      <th></th>\n",
       "      <th></th>\n",
       "      <th></th>\n",
       "      <th></th>\n",
       "      <th></th>\n",
       "      <th></th>\n",
       "      <th></th>\n",
       "    </tr>\n",
       "  </thead>\n",
       "  <tbody>\n",
       "    <tr>\n",
       "      <th>2016-09-04</th>\n",
       "      <td>27512</td>\n",
       "      <td>452.5</td>\n",
       "      <td>452.5</td>\n",
       "      <td>1676.5</td>\n",
       "      <td>561.5</td>\n",
       "      <td>71.0</td>\n",
       "      <td>0.0</td>\n",
       "      <td>24.0</td>\n",
       "      <td>48.0</td>\n",
       "      <td>14259.000000</td>\n",
       "      <td>13253.000000</td>\n",
       "      <td>26001.919188</td>\n",
       "      <td>2516.080812</td>\n",
       "    </tr>\n",
       "    <tr>\n",
       "      <th>2016-12-25</th>\n",
       "      <td>36653</td>\n",
       "      <td>300.0</td>\n",
       "      <td>300.0</td>\n",
       "      <td>1906.0</td>\n",
       "      <td>664.0</td>\n",
       "      <td>87.0</td>\n",
       "      <td>0.0</td>\n",
       "      <td>24.0</td>\n",
       "      <td>72.0</td>\n",
       "      <td>19650.666667</td>\n",
       "      <td>17002.333333</td>\n",
       "      <td>31393.585854</td>\n",
       "      <td>7907.747479</td>\n",
       "    </tr>\n",
       "    <tr>\n",
       "      <th>2015-08-06</th>\n",
       "      <td>63468</td>\n",
       "      <td>466.5</td>\n",
       "      <td>466.5</td>\n",
       "      <td>1625.0</td>\n",
       "      <td>357.5</td>\n",
       "      <td>50.0</td>\n",
       "      <td>0.0</td>\n",
       "      <td>0.0</td>\n",
       "      <td>24.0</td>\n",
       "      <td>46627.333333</td>\n",
       "      <td>16840.666667</td>\n",
       "      <td>58370.252521</td>\n",
       "      <td>34884.414146</td>\n",
       "    </tr>\n",
       "    <tr>\n",
       "      <th>2015-07-09</th>\n",
       "      <td>72504</td>\n",
       "      <td>427.0</td>\n",
       "      <td>421.0</td>\n",
       "      <td>1175.5</td>\n",
       "      <td>311.5</td>\n",
       "      <td>28.0</td>\n",
       "      <td>0.0</td>\n",
       "      <td>0.0</td>\n",
       "      <td>24.0</td>\n",
       "      <td>50705.000000</td>\n",
       "      <td>21799.000000</td>\n",
       "      <td>62447.919188</td>\n",
       "      <td>38962.080812</td>\n",
       "    </tr>\n",
       "  </tbody>\n",
       "</table>\n",
       "</div>"
      ],
      "text/plain": [
       "              cnt     t1     t2     hum  wind_speed  weather_code  is_holiday  \\\n",
       "timestamp                                                                       \n",
       "2016-09-04  27512  452.5  452.5  1676.5       561.5          71.0         0.0   \n",
       "2016-12-25  36653  300.0  300.0  1906.0       664.0          87.0         0.0   \n",
       "2015-08-06  63468  466.5  466.5  1625.0       357.5          50.0         0.0   \n",
       "2015-07-09  72504  427.0  421.0  1175.5       311.5          28.0         0.0   \n",
       "\n",
       "            is_weekend  season     roll_mean     mean_diff   upper_bound  \\\n",
       "timestamp                                                                  \n",
       "2016-09-04        24.0    48.0  14259.000000  13253.000000  26001.919188   \n",
       "2016-12-25        24.0    72.0  19650.666667  17002.333333  31393.585854   \n",
       "2015-08-06         0.0    24.0  46627.333333  16840.666667  58370.252521   \n",
       "2015-07-09         0.0    24.0  50705.000000  21799.000000  62447.919188   \n",
       "\n",
       "             lower_bound  \n",
       "timestamp                 \n",
       "2016-09-04   2516.080812  \n",
       "2016-12-25   7907.747479  \n",
       "2015-08-06  34884.414146  \n",
       "2015-07-09  38962.080812  "
      ]
     },
     "execution_count": 14,
     "metadata": {},
     "output_type": "execute_result"
    }
   ],
   "source": [
    "# изучим аномально высокие значения\n",
    "# выведем наблюдения, для которых наблюдаемые значения\n",
    "# оказались больше верхней границы 99% доверительного интервала.\n",
    "\n",
    "df_resample.query('cnt > upper_bound').sort_values('cnt')"
   ]
  },
  {
   "cell_type": "code",
   "execution_count": null,
   "id": "bb4f290c",
   "metadata": {},
   "outputs": [],
   "source": [
    "# Вероятная причина - забастовки в метро в этот день"
   ]
  },
  {
   "cell_type": "code",
   "execution_count": null,
   "id": "949aa041",
   "metadata": {},
   "outputs": [],
   "source": []
  },
  {
   "cell_type": "code",
   "execution_count": 13,
   "id": "ec1cb5d1",
   "metadata": {},
   "outputs": [
    {
     "data": {
      "text/html": [
       "<div>\n",
       "<style scoped>\n",
       "    .dataframe tbody tr th:only-of-type {\n",
       "        vertical-align: middle;\n",
       "    }\n",
       "\n",
       "    .dataframe tbody tr th {\n",
       "        vertical-align: top;\n",
       "    }\n",
       "\n",
       "    .dataframe thead th {\n",
       "        text-align: right;\n",
       "    }\n",
       "</style>\n",
       "<table border=\"1\" class=\"dataframe\">\n",
       "  <thead>\n",
       "    <tr style=\"text-align: right;\">\n",
       "      <th></th>\n",
       "      <th>cnt</th>\n",
       "      <th>t1</th>\n",
       "      <th>t2</th>\n",
       "      <th>hum</th>\n",
       "      <th>wind_speed</th>\n",
       "      <th>weather_code</th>\n",
       "      <th>is_holiday</th>\n",
       "      <th>is_weekend</th>\n",
       "      <th>season</th>\n",
       "      <th>roll_mean</th>\n",
       "      <th>mean_diff</th>\n",
       "      <th>upper_bound</th>\n",
       "      <th>lower_bound</th>\n",
       "    </tr>\n",
       "    <tr>\n",
       "      <th>timestamp</th>\n",
       "      <th></th>\n",
       "      <th></th>\n",
       "      <th></th>\n",
       "      <th></th>\n",
       "      <th></th>\n",
       "      <th></th>\n",
       "      <th></th>\n",
       "      <th></th>\n",
       "      <th></th>\n",
       "      <th></th>\n",
       "      <th></th>\n",
       "      <th></th>\n",
       "      <th></th>\n",
       "    </tr>\n",
       "  </thead>\n",
       "  <tbody>\n",
       "    <tr>\n",
       "      <th>2016-09-02</th>\n",
       "      <td>0</td>\n",
       "      <td>0.0</td>\n",
       "      <td>0.0</td>\n",
       "      <td>0.0</td>\n",
       "      <td>0.0</td>\n",
       "      <td>0.0</td>\n",
       "      <td>0.0</td>\n",
       "      <td>0.0</td>\n",
       "      <td>0.0</td>\n",
       "      <td>26086.333333</td>\n",
       "      <td>-26086.333333</td>\n",
       "      <td>37829.252521</td>\n",
       "      <td>14343.414146</td>\n",
       "    </tr>\n",
       "    <tr>\n",
       "      <th>2015-11-14</th>\n",
       "      <td>8898</td>\n",
       "      <td>270.0</td>\n",
       "      <td>235.0</td>\n",
       "      <td>1951.0</td>\n",
       "      <td>560.0</td>\n",
       "      <td>105.0</td>\n",
       "      <td>0.0</td>\n",
       "      <td>24.0</td>\n",
       "      <td>48.0</td>\n",
       "      <td>21037.333333</td>\n",
       "      <td>-12139.333333</td>\n",
       "      <td>32780.252521</td>\n",
       "      <td>9294.414146</td>\n",
       "    </tr>\n",
       "    <tr>\n",
       "      <th>2016-11-12</th>\n",
       "      <td>8990</td>\n",
       "      <td>214.0</td>\n",
       "      <td>180.0</td>\n",
       "      <td>1976.0</td>\n",
       "      <td>247.5</td>\n",
       "      <td>108.0</td>\n",
       "      <td>0.0</td>\n",
       "      <td>23.0</td>\n",
       "      <td>46.0</td>\n",
       "      <td>20878.000000</td>\n",
       "      <td>-11888.000000</td>\n",
       "      <td>32620.919188</td>\n",
       "      <td>9135.080812</td>\n",
       "    </tr>\n",
       "    <tr>\n",
       "      <th>2015-05-14</th>\n",
       "      <td>15609</td>\n",
       "      <td>237.5</td>\n",
       "      <td>189.5</td>\n",
       "      <td>2039.0</td>\n",
       "      <td>513.0</td>\n",
       "      <td>118.0</td>\n",
       "      <td>0.0</td>\n",
       "      <td>0.0</td>\n",
       "      <td>0.0</td>\n",
       "      <td>28709.333333</td>\n",
       "      <td>-13100.333333</td>\n",
       "      <td>40452.252521</td>\n",
       "      <td>16966.414146</td>\n",
       "    </tr>\n",
       "    <tr>\n",
       "      <th>2015-07-24</th>\n",
       "      <td>16034</td>\n",
       "      <td>380.5</td>\n",
       "      <td>380.5</td>\n",
       "      <td>1810.0</td>\n",
       "      <td>275.0</td>\n",
       "      <td>108.0</td>\n",
       "      <td>0.0</td>\n",
       "      <td>0.0</td>\n",
       "      <td>24.0</td>\n",
       "      <td>31013.666667</td>\n",
       "      <td>-14979.666667</td>\n",
       "      <td>42756.585854</td>\n",
       "      <td>19270.747479</td>\n",
       "    </tr>\n",
       "    <tr>\n",
       "      <th>2016-09-10</th>\n",
       "      <td>17080</td>\n",
       "      <td>460.0</td>\n",
       "      <td>460.0</td>\n",
       "      <td>1932.0</td>\n",
       "      <td>392.0</td>\n",
       "      <td>89.0</td>\n",
       "      <td>0.0</td>\n",
       "      <td>24.0</td>\n",
       "      <td>48.0</td>\n",
       "      <td>31262.000000</td>\n",
       "      <td>-14182.000000</td>\n",
       "      <td>43004.919188</td>\n",
       "      <td>19519.080812</td>\n",
       "    </tr>\n",
       "    <tr>\n",
       "      <th>2015-08-24</th>\n",
       "      <td>17400</td>\n",
       "      <td>380.0</td>\n",
       "      <td>380.0</td>\n",
       "      <td>2099.0</td>\n",
       "      <td>321.0</td>\n",
       "      <td>126.0</td>\n",
       "      <td>0.0</td>\n",
       "      <td>0.0</td>\n",
       "      <td>24.0</td>\n",
       "      <td>29529.333333</td>\n",
       "      <td>-12129.333333</td>\n",
       "      <td>41272.252521</td>\n",
       "      <td>17786.414146</td>\n",
       "    </tr>\n",
       "    <tr>\n",
       "      <th>2016-09-16</th>\n",
       "      <td>21967</td>\n",
       "      <td>416.0</td>\n",
       "      <td>416.0</td>\n",
       "      <td>1900.5</td>\n",
       "      <td>416.0</td>\n",
       "      <td>115.0</td>\n",
       "      <td>0.0</td>\n",
       "      <td>0.0</td>\n",
       "      <td>48.0</td>\n",
       "      <td>36193.333333</td>\n",
       "      <td>-14226.333333</td>\n",
       "      <td>47936.252521</td>\n",
       "      <td>24450.414146</td>\n",
       "    </tr>\n",
       "    <tr>\n",
       "      <th>2015-07-12</th>\n",
       "      <td>23240</td>\n",
       "      <td>444.5</td>\n",
       "      <td>444.5</td>\n",
       "      <td>1811.5</td>\n",
       "      <td>520.5</td>\n",
       "      <td>80.0</td>\n",
       "      <td>0.0</td>\n",
       "      <td>24.0</td>\n",
       "      <td>24.0</td>\n",
       "      <td>36036.666667</td>\n",
       "      <td>-12796.666667</td>\n",
       "      <td>47779.585854</td>\n",
       "      <td>24293.747479</td>\n",
       "    </tr>\n",
       "  </tbody>\n",
       "</table>\n",
       "</div>"
      ],
      "text/plain": [
       "              cnt     t1     t2     hum  wind_speed  weather_code  is_holiday  \\\n",
       "timestamp                                                                       \n",
       "2016-09-02      0    0.0    0.0     0.0         0.0           0.0         0.0   \n",
       "2015-11-14   8898  270.0  235.0  1951.0       560.0         105.0         0.0   \n",
       "2016-11-12   8990  214.0  180.0  1976.0       247.5         108.0         0.0   \n",
       "2015-05-14  15609  237.5  189.5  2039.0       513.0         118.0         0.0   \n",
       "2015-07-24  16034  380.5  380.5  1810.0       275.0         108.0         0.0   \n",
       "2016-09-10  17080  460.0  460.0  1932.0       392.0          89.0         0.0   \n",
       "2015-08-24  17400  380.0  380.0  2099.0       321.0         126.0         0.0   \n",
       "2016-09-16  21967  416.0  416.0  1900.5       416.0         115.0         0.0   \n",
       "2015-07-12  23240  444.5  444.5  1811.5       520.5          80.0         0.0   \n",
       "\n",
       "            is_weekend  season     roll_mean     mean_diff   upper_bound  \\\n",
       "timestamp                                                                  \n",
       "2016-09-02         0.0     0.0  26086.333333 -26086.333333  37829.252521   \n",
       "2015-11-14        24.0    48.0  21037.333333 -12139.333333  32780.252521   \n",
       "2016-11-12        23.0    46.0  20878.000000 -11888.000000  32620.919188   \n",
       "2015-05-14         0.0     0.0  28709.333333 -13100.333333  40452.252521   \n",
       "2015-07-24         0.0    24.0  31013.666667 -14979.666667  42756.585854   \n",
       "2016-09-10        24.0    48.0  31262.000000 -14182.000000  43004.919188   \n",
       "2015-08-24         0.0    24.0  29529.333333 -12129.333333  41272.252521   \n",
       "2016-09-16         0.0    48.0  36193.333333 -14226.333333  47936.252521   \n",
       "2015-07-12        24.0    24.0  36036.666667 -12796.666667  47779.585854   \n",
       "\n",
       "             lower_bound  \n",
       "timestamp                 \n",
       "2016-09-02  14343.414146  \n",
       "2015-11-14   9294.414146  \n",
       "2016-11-12   9135.080812  \n",
       "2015-05-14  16966.414146  \n",
       "2015-07-24  19270.747479  \n",
       "2016-09-10  19519.080812  \n",
       "2015-08-24  17786.414146  \n",
       "2016-09-16  24450.414146  \n",
       "2015-07-12  24293.747479  "
      ]
     },
     "execution_count": 13,
     "metadata": {},
     "output_type": "execute_result"
    }
   ],
   "source": [
    "# изучим аномально низкие значения\n",
    "# выведем наблюдения, для которых наблюдаемые значения\n",
    "# оказались меньше нижней границы 99% доверительного интервала.\n",
    "\n",
    "df_resample.query('cnt < lower_bound').sort_values('cnt')"
   ]
  },
  {
   "cell_type": "code",
   "execution_count": null,
   "id": "c9e34d32",
   "metadata": {},
   "outputs": [],
   "source": [
    "# Вероятная причина - ошибка при сборе данных"
   ]
  }
 ],
 "metadata": {
  "kernelspec": {
   "display_name": "Python 3 (ipykernel)",
   "language": "python",
   "name": "python3"
  },
  "language_info": {
   "codemirror_mode": {
    "name": "ipython",
    "version": 3
   },
   "file_extension": ".py",
   "mimetype": "text/x-python",
   "name": "python",
   "nbconvert_exporter": "python",
   "pygments_lexer": "ipython3",
   "version": "3.9.7"
  }
 },
 "nbformat": 4,
 "nbformat_minor": 5
}
